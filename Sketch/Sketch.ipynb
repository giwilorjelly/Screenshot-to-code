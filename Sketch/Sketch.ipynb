{
  "cells": [
    {
      "cell_type": "code",
      "execution_count": 1,
      "metadata": {
        "id": "RQG78HkO-OqG"
      },
      "outputs": [],
      "source": [
        "from os import listdir\n",
        "import numpy as np\n",
        "from numpy import array"
      ]
    },
    {
      "cell_type": "code",
      "execution_count": 2,
      "metadata": {
        "id": "2iofu1jp-OqL"
      },
      "outputs": [],
      "source": [
        "from keras.preprocessing.text import Tokenizer, one_hot\n",
        "from keras.preprocessing.sequence import pad_sequences\n",
        "from keras.models import Model\n",
        "from keras.layers import Embedding, TimeDistributed, RepeatVector, LSTM, concatenate , Input, Reshape, Dense, Flatten\n",
        "from keras.preprocessing.image import array_to_img, img_to_array, load_img\n",
        "from keras.applications.inception_resnet_v2 import InceptionResNetV2, preprocess_input\n",
        "from tensorflow.keras.utils import to_categorical"
      ]
    },
    {
      "cell_type": "code",
      "execution_count": 3,
      "metadata": {
        "id": "p-9GwpEj-OqM"
      },
      "outputs": [],
      "source": [
        "# Load the images and preprocess\n",
        "images = []\n",
        "all_filenames = listdir('images/')\n",
        "all_filenames.sort()\n",
        "for filename in all_filenames:\n",
        "    images.append(img_to_array(load_img('images/'+filename, target_size=(299, 299))))\n",
        "images = np.array(images, dtype=float)\n",
        "images = preprocess_input(images)\n",
        "\n",
        "#Run the images through inception-resnet and extract the features without the classification layer\n",
        "IR2 = InceptionResNetV2(weights='imagenet', include_top=False)\n",
        "features = IR2.predict(images)"
      ]
    },
    {
      "cell_type": "code",
      "execution_count": 4,
      "metadata": {
        "id": "cCPUppEM-OqN"
      },
      "outputs": [],
      "source": [
        "# We will cap each input sequence to 100 tokens\n",
        "max_caption_len = 100\n",
        "# Initialize the function that will create our vocabulary \n",
        "tokenizer = Tokenizer(filters='', split=\" \", lower=False)\n",
        "\n",
        "# Read a document and return a string\n",
        "def load_doc(filename):\n",
        "    file = open(filename, 'r')\n",
        "    text = file.read()\n",
        "    file.close()\n",
        "    return text\n",
        "\n",
        "# Load all the HTML files\n",
        "X = []\n",
        "all_filenames = listdir('html/')\n",
        "all_filenames.sort()\n",
        "for filename in all_filenames:\n",
        "    X.append(load_doc('html/'+filename))\n",
        "\n",
        "# Create the vocabulary from the html files\n",
        "tokenizer.fit_on_texts(X)\n",
        "\n",
        "# Add +1 to leave space for empty words\n",
        "vocab_size = len(tokenizer.word_index) + 1\n",
        "# Translate each word in text file to the matching vocabulary index\n",
        "sequences = tokenizer.texts_to_sequences(X)\n",
        "# The longest HTML file\n",
        "max_length = max(len(s) for s in sequences)\n"
      ]
    },
    {
      "cell_type": "code",
      "source": [
        "\n",
        "# Intialize our final input to the model\n",
        "X, y, image_data = list(), list(), list()\n",
        "for img_no, seq in enumerate(sequences):\n",
        "    for i in range(1, len(seq)):\n",
        "        # Add the entire sequence to the input and only keep the next word for the output\n",
        "        in_seq, out_seq = seq[:i], seq[i]\n",
        "        # If the sentence is shorter than max_length, fill it up with empty words\n",
        "        in_seq = pad_sequences([in_seq], maxlen=max_length)[0]\n",
        "        # Map the output to one-hot encoding\n",
        "        out_seq = to_categorical([out_seq], num_classes=vocab_size)[0]\n",
        "        # Add and image corresponding to the HTML file\n",
        "        image_data.append(features[img_no])\n",
        "        # Cut the input sentence to 100 tokens, and add it to the input data\n",
        "        X.append(in_seq[-100:])\n",
        "        y.append(out_seq)\n",
        "\n",
        "X, y, image_data = np.array(X), np.array(y), np.array(image_data)"
      ],
      "metadata": {
        "id": "wDJr56IVoyPR"
      },
      "execution_count": 5,
      "outputs": []
    },
    {
      "cell_type": "code",
      "execution_count": 6,
      "metadata": {
        "id": "Pv0hAd6Z-OqP"
      },
      "outputs": [],
      "source": [
        "# Create the encoder\n",
        "image_features = Input(shape=(8, 8, 1536,))\n",
        "image_flat = Flatten()(image_features)\n",
        "image_flat = Dense(128, activation='relu')(image_flat)\n",
        "image_flat = Dense(128, activation='relu')(image_flat)\n",
        "ir2_out = RepeatVector(max_caption_len)(image_flat)\n",
        "\n",
        "language_input = Input(shape=(max_caption_len,))\n",
        "language_model = Embedding(vocab_size, 200, input_length=max_caption_len)(language_input)\n",
        "language_model = LSTM(256, return_sequences=True)(language_model)\n",
        "language_model = LSTM(256, return_sequences=True)(language_model)\n",
        "language_model = TimeDistributed(Dense(128, activation='relu'))(language_model)\n",
        "\n",
        "# Create the decoder\n",
        "decoder = concatenate([ir2_out, language_model])\n",
        "decoder = LSTM(512, return_sequences=False)(decoder)\n",
        "decoder_output = Dense(vocab_size, activation='softmax')(decoder)\n",
        "\n",
        "# Compile the model\n",
        "model = Model(inputs=[image_features, language_input], outputs=decoder_output)\n",
        "model.compile(loss='categorical_crossentropy', optimizer='rmsprop')"
      ]
    },
    {
      "cell_type": "code",
      "execution_count": 7,
      "metadata": {
        "id": "BEaoluWtHiZl"
      },
      "outputs": [],
      "source": [
        "import tensorflow as tf\n",
        "class myCallback(tf.keras.callbacks.Callback): \n",
        "    def on_epoch_end(self, epoch, logs=None): \n",
        "        if(logs['loss'] < 0.001):   \n",
        "          print('reached threshold')  \n",
        "          self.model.stop_training = True\n",
        "callbacks = myCallback()"
      ]
    },
    {
      "cell_type": "code",
      "execution_count": 8,
      "metadata": {
        "id": "wNjuQ_-2-Oqa"
      },
      "outputs": [],
      "source": [
        "# Train the neural network\n",
        "#model.fit([image_data, X], y, batch_size=64, shuffle=True, epochs=10000, callbacks = [callbacks])\n",
        "\n",
        "#loading weights\n",
        "model.load_weights('model.h5')"
      ]
    },
    {
      "cell_type": "code",
      "execution_count": 9,
      "metadata": {
        "id": "92kFGBSg-Oqb"
      },
      "outputs": [],
      "source": [
        "# map an integer to a word\n",
        "def word_for_id(integer, tokenizer):\n",
        "    for word, index in tokenizer.word_index.items():\n",
        "        if index == integer:\n",
        "            return word\n",
        "    return None"
      ]
    },
    {
      "cell_type": "code",
      "execution_count": 10,
      "metadata": {
        "id": "lX_XyMy7-Oqb"
      },
      "outputs": [],
      "source": [
        "# generate a description for an image\n",
        "def generate_desc(model, tokenizer, photo, max_length):\n",
        "    # seed the generation process\n",
        "    in_text = 'START'\n",
        "    # iterate over the whole length of the sequence\n",
        "    for i in range(900):\n",
        "        # integer encode input sequence\n",
        "        sequence = tokenizer.texts_to_sequences([in_text])[0][-100:]\n",
        "        # pad input\n",
        "        sequence = pad_sequences([sequence], maxlen=max_length)\n",
        "        # predict next word\n",
        "        yhat = model.predict([photo,sequence], verbose=0)\n",
        "        # convert probability to integer\n",
        "        yhat = np.argmax(yhat)\n",
        "        # map integer to word\n",
        "        word = word_for_id(yhat, tokenizer)\n",
        "        # stop if we cannot map the word\n",
        "        if word is None:\n",
        "            break\n",
        "        # append as input for generating the next word\n",
        "        in_text += ' ' + word\n",
        "        # Print the prediction\n",
        "        print(' ' + word, end='')\n",
        "        # stop if we predict the end of the sequence\n",
        "        if 'END' in word:\n",
        "            break\n",
        "    return"
      ]
    },
    {
      "cell_type": "code",
      "execution_count": 11,
      "metadata": {
        "colab": {
          "base_uri": "https://localhost:8080/"
        },
        "id": "Hnn_JN3p-Oqd",
        "outputId": "d1e2b5c2-719e-451d-875e-7b06c593caa1"
      },
      "outputs": [
        {
          "output_type": "stream",
          "name": "stdout",
          "text": [
            " <!DOCTYPE html>\n",
            "<html lang=\"en\" dir=\"ltr\">\n",
            "<head>\n",
            " <meta name=\"viewport\" content=\"width=device-width\" />\n",
            " <title>HTML Result</title>\n",
            " <link rel=\"stylesheet\" href=\"https://stackpath.bootstrapcdn.com/bootstrap/4.1.1/css/bootstrap.min.css\" \n",
            " integrity=\"sha384-WskhaSGFgHYWDcbwN70/dfYBj47jz9qbsMId/iRN3ewGhXQFZCSftd1LZCfmhktB\" crossorigin=\"anonymous\">\n",
            "</head>\n",
            "<body>\n",
            " <div class=\"container body-content\">\n",
            " \n",
            "\n",
            "\n",
            "\n",
            "<div class=\"container\">\n",
            "\n",
            "\n",
            " <div class=\"row justify-content-start\" style=\"padding-top:10px;\">\n",
            "<label>PAYMENT INFO</label>\n",
            "\n",
            "\n",
            "\n",
            " </div>\n",
            " <div class=\"row justify-content-start\" style=\"padding-top:10px;\">\n",
            "<label>Cardholder Name</label>\n",
            "\n",
            "\n",
            "\n",
            " </div>\n",
            " <div class=\"row justify-content-center\" style=\"padding-top:10px;\">\n",
            "<input class=\"form-control\"></input>\n",
            "\n",
            "\n",
            " </div>\n",
            " <div class=\"row justify-content-start\" style=\"padding-top:10px;\">\n",
            "<label>Card Number</label>\n",
            "\n",
            "\n",
            "\n",
            " </div>\n",
            " <div class=\"row justify-content-start\" style=\"padding-top:10px;\">\n",
            "<input class=\"form-control\"></input>\n",
            "\n",
            "\n",
            " </div>\n",
            " <div class=\"row justify-content-start\" style=\"padding-top:10px;\">\n",
            "\n",
            " <div class=\"col\" style=\"padding-top:10px;\">\n",
            "<label>Expiry Date Cvv</label>\n",
            "\n",
            "\n",
            "\n",
            " </div>\n",
            " <div class=\"col\" style=\"padding-top:10px;\">\n",
            "<label>Cvv</label>\n",
            "\n",
            "\n",
            "\n",
            " </div>\n",
            " </div>\n",
            " <div class=\"row justify-content-start\" style=\"padding-top:10px;\">\n",
            "\n",
            " <div class=\"col\" style=\"padding-top:10px;\">\n",
            "<div class=\"dropdown\">\n",
            " <button type=\"button\" class=\"btn btn-primary dropdown-toggle\" data-toggle=\"dropdown\">\n",
            " V\n",
            " </button>\n",
            " <div class=\"dropdown-menu\">\n",
            " <a class=\"dropdown-item\" href=\"#\" title=\"Drop down list\"></a>\n",
            " </div>\n",
            "</div>\n",
            "\n",
            " \n",
            "\n",
            "\n",
            " </div>\n",
            " <div class=\"col\" style=\"padding-top:10px;\">\n",
            "<div class=\"dropdown\">\n",
            " <button type=\"button\" class=\"btn btn-primary dropdown-toggle\" data-toggle=\"dropdown\">\n",
            " A\n",
            " </button>\n",
            " <div class=\"dropdown-menu\">\n",
            " <a class=\"dropdown-item\" href=\"#\" title=\"Drop down list\"></a>\n",
            " </div>\n",
            "</div>\n",
            "\n",
            " \n",
            "\n",
            "\n",
            " </div>\n",
            " <div class=\"col\" style=\"padding-top:10px;\">\n",
            "<input class=\"form-control\"></input>\n",
            "\n",
            "\n",
            " </div>\n",
            " </div>\n",
            " <div class=\"row justify-content-start\" style=\"padding-top:10px;\">\n",
            "\n",
            " <div class=\"col\" style=\"padding-top:10px;\">\n",
            "<button class=\"btn btn-primary\">BACK</button>\n",
            "\n",
            "\n",
            " </div>\n",
            " <div class=\"col\" style=\"padding-top:10px;\">\n",
            "<button class=\"btn btn-primary\">NEXT STEP</button>\n",
            "\n",
            "\n",
            " </div>\n",
            " </div>\n",
            "\n",
            "\n",
            "</div>\n",
            "\n",
            "\n",
            "\n",
            " </div>\n",
            "</body>\n",
            "</html> END\n"
          ]
        }
      ],
      "source": [
        "# Load and image, preprocess it for IR2, extract features and generate the HTML\n",
        "test_image = img_to_array(load_img('images/91.png', target_size=(299, 299)))\n",
        "test_image = np.array(test_image, dtype=float)\n",
        "test_image = preprocess_input(test_image)\n",
        "test_features = IR2.predict(np.array([test_image]))\n",
        "generate_desc(model, tokenizer, np.array(test_features), 100)"
      ]
    },
    {
      "cell_type": "code",
      "source": [
        "#model.save_weights('model.h5')"
      ],
      "metadata": {
        "id": "5wlxDQkunCyW"
      },
      "execution_count": 12,
      "outputs": []
    }
  ],
  "metadata": {
    "accelerator": "GPU",
    "colab": {
      "name": "Sketch.ipynb",
      "provenance": [],
      "collapsed_sections": []
    },
    "kernelspec": {
      "display_name": "Python 3",
      "language": "python",
      "name": "python3"
    },
    "language_info": {
      "codemirror_mode": {
        "name": "ipython",
        "version": 3
      },
      "file_extension": ".py",
      "mimetype": "text/x-python",
      "name": "python",
      "nbconvert_exporter": "python",
      "pygments_lexer": "ipython3",
      "version": "3.8.5"
    }
  },
  "nbformat": 4,
  "nbformat_minor": 0
}